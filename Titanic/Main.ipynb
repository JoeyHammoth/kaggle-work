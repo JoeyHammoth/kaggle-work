{
 "cells": [
  {
   "cell_type": "code",
   "execution_count": 4,
   "id": "9fa3fe47",
   "metadata": {},
   "outputs": [],
   "source": [
    "# This notebook contains all of the models to address the titanic question.  "
   ]
  },
  {
   "cell_type": "code",
   "execution_count": 51,
   "id": "89f38491",
   "metadata": {},
   "outputs": [],
   "source": [
    "# libraries\n",
    "\n",
    "import pandas as pd\n",
    "import numpy as np"
   ]
  },
  {
   "cell_type": "code",
   "execution_count": 58,
   "id": "77c4510a",
   "metadata": {},
   "outputs": [],
   "source": [
    "# Create result generator \n",
    "\n",
    "def result_generator(y_pred, df_test, name):\n",
    "    df_id = df_test[\"PassengerId\"]\n",
    "    df_pred = pd.DataFrame(y_pred, columns=[\"Survived\"])\n",
    "    df_output = pd.concat([df_id, df_pred], axis=1)\n",
    "    df_output.to_csv(\"results/\" + name, index=False)"
   ]
  },
  {
   "cell_type": "code",
   "execution_count": 53,
   "id": "bd1ed8b9",
   "metadata": {
    "scrolled": true
   },
   "outputs": [],
   "source": [
    "# Transfer the dataset into pandas dataframe \n",
    "\n",
    "file_path_train = \"train.csv\"\n",
    "file_path_test = \"test.csv\"\n",
    "\n",
    "df_train = pd.read_csv(file_path_train)\n",
    "df_test = pd.read_csv(file_path_test)"
   ]
  },
  {
   "cell_type": "code",
   "execution_count": 54,
   "id": "f092dd4a",
   "metadata": {
    "scrolled": true
   },
   "outputs": [],
   "source": [
    "# Set X (features) and y (label or target) for training and testing dataframes\n",
    "\n",
    "y_train = df_train[\"Survived\"]\n",
    "X_train = df_train.drop(columns=[\"Survived\"], axis=1)\n",
    "X_test = df_test"
   ]
  },
  {
   "cell_type": "code",
   "execution_count": 55,
   "id": "1ef3be7d",
   "metadata": {},
   "outputs": [],
   "source": [
    "# Create random baseline model\n",
    "\n",
    "y_pred_random = np.random.choice([0, 1], size=len(X_test), p=[0.5, 0.5])"
   ]
  },
  {
   "cell_type": "code",
   "execution_count": 59,
   "id": "85461b5e",
   "metadata": {},
   "outputs": [],
   "source": [
    "# Generate random result\n",
    "\n",
    "result_generator(y_pred_random, df_test, \"random.csv\")"
   ]
  },
  {
   "cell_type": "code",
   "execution_count": null,
   "id": "69cd771c",
   "metadata": {},
   "outputs": [],
   "source": []
  }
 ],
 "metadata": {
  "kernelspec": {
   "display_name": "Python 3 (ipykernel)",
   "language": "python",
   "name": "python3"
  },
  "language_info": {
   "codemirror_mode": {
    "name": "ipython",
    "version": 3
   },
   "file_extension": ".py",
   "mimetype": "text/x-python",
   "name": "python",
   "nbconvert_exporter": "python",
   "pygments_lexer": "ipython3",
   "version": "3.11.5"
  }
 },
 "nbformat": 4,
 "nbformat_minor": 5
}
